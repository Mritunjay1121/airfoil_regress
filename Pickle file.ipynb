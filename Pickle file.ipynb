{
 "cells": [
  {
   "cell_type": "raw",
   "id": "d6999b2f",
   "metadata": {},
   "source": [
    "Attribute Information:\n",
    "\n",
    "This problem has the following inputs:\n",
    "1. Frequency, in Hertzs.\n",
    "2. Angle of attack, in degrees.\n",
    "3. Chord length, in meters.\n",
    "4. Free-stream velocity, in meters per second.\n",
    "5. Suction side displacement thickness, in meters.\n",
    "\n",
    "The only output is:\n",
    "6. Scaled sound pressure level, in decibels."
   ]
  },
  {
   "cell_type": "code",
   "execution_count": 21,
   "id": "006c43d1",
   "metadata": {},
   "outputs": [],
   "source": [
    "import pandas as pd\n",
    "import numpy as np\n",
    "from sklearn.tree import DecisionTreeRegressor\n",
    "from sklearn.preprocessing import MinMaxScaler\n",
    "from sklearn.ensemble import RandomForestRegressor\n",
    "from sklearn.model_selection import train_test_split,cross_val_score,GridSearchCV\n",
    "from sklearn.linear_model import LinearRegression\n",
    "from sklearn.ensemble import RandomForestRegressor\n",
    "import seaborn as sns\n",
    "import matplotlib.pyplot as plt"
   ]
  },
  {
   "cell_type": "code",
   "execution_count": 22,
   "id": "b4975255",
   "metadata": {},
   "outputs": [],
   "source": [
    "df=pd.read_csv(\"airfoil_self_noise.dat\",sep=\"\\t\",header=None)"
   ]
  },
  {
   "cell_type": "code",
   "execution_count": 23,
   "id": "560a298b",
   "metadata": {},
   "outputs": [
    {
     "data": {
      "text/html": [
       "<div>\n",
       "<style scoped>\n",
       "    .dataframe tbody tr th:only-of-type {\n",
       "        vertical-align: middle;\n",
       "    }\n",
       "\n",
       "    .dataframe tbody tr th {\n",
       "        vertical-align: top;\n",
       "    }\n",
       "\n",
       "    .dataframe thead th {\n",
       "        text-align: right;\n",
       "    }\n",
       "</style>\n",
       "<table border=\"1\" class=\"dataframe\">\n",
       "  <thead>\n",
       "    <tr style=\"text-align: right;\">\n",
       "      <th></th>\n",
       "      <th>0</th>\n",
       "      <th>1</th>\n",
       "      <th>2</th>\n",
       "      <th>3</th>\n",
       "      <th>4</th>\n",
       "      <th>5</th>\n",
       "    </tr>\n",
       "  </thead>\n",
       "  <tbody>\n",
       "    <tr>\n",
       "      <th>0</th>\n",
       "      <td>800</td>\n",
       "      <td>0.0</td>\n",
       "      <td>0.3048</td>\n",
       "      <td>71.3</td>\n",
       "      <td>0.002663</td>\n",
       "      <td>126.201</td>\n",
       "    </tr>\n",
       "    <tr>\n",
       "      <th>1</th>\n",
       "      <td>1000</td>\n",
       "      <td>0.0</td>\n",
       "      <td>0.3048</td>\n",
       "      <td>71.3</td>\n",
       "      <td>0.002663</td>\n",
       "      <td>125.201</td>\n",
       "    </tr>\n",
       "    <tr>\n",
       "      <th>2</th>\n",
       "      <td>1250</td>\n",
       "      <td>0.0</td>\n",
       "      <td>0.3048</td>\n",
       "      <td>71.3</td>\n",
       "      <td>0.002663</td>\n",
       "      <td>125.951</td>\n",
       "    </tr>\n",
       "    <tr>\n",
       "      <th>3</th>\n",
       "      <td>1600</td>\n",
       "      <td>0.0</td>\n",
       "      <td>0.3048</td>\n",
       "      <td>71.3</td>\n",
       "      <td>0.002663</td>\n",
       "      <td>127.591</td>\n",
       "    </tr>\n",
       "    <tr>\n",
       "      <th>4</th>\n",
       "      <td>2000</td>\n",
       "      <td>0.0</td>\n",
       "      <td>0.3048</td>\n",
       "      <td>71.3</td>\n",
       "      <td>0.002663</td>\n",
       "      <td>127.461</td>\n",
       "    </tr>\n",
       "    <tr>\n",
       "      <th>...</th>\n",
       "      <td>...</td>\n",
       "      <td>...</td>\n",
       "      <td>...</td>\n",
       "      <td>...</td>\n",
       "      <td>...</td>\n",
       "      <td>...</td>\n",
       "    </tr>\n",
       "    <tr>\n",
       "      <th>1498</th>\n",
       "      <td>2500</td>\n",
       "      <td>15.6</td>\n",
       "      <td>0.1016</td>\n",
       "      <td>39.6</td>\n",
       "      <td>0.052849</td>\n",
       "      <td>110.264</td>\n",
       "    </tr>\n",
       "    <tr>\n",
       "      <th>1499</th>\n",
       "      <td>3150</td>\n",
       "      <td>15.6</td>\n",
       "      <td>0.1016</td>\n",
       "      <td>39.6</td>\n",
       "      <td>0.052849</td>\n",
       "      <td>109.254</td>\n",
       "    </tr>\n",
       "    <tr>\n",
       "      <th>1500</th>\n",
       "      <td>4000</td>\n",
       "      <td>15.6</td>\n",
       "      <td>0.1016</td>\n",
       "      <td>39.6</td>\n",
       "      <td>0.052849</td>\n",
       "      <td>106.604</td>\n",
       "    </tr>\n",
       "    <tr>\n",
       "      <th>1501</th>\n",
       "      <td>5000</td>\n",
       "      <td>15.6</td>\n",
       "      <td>0.1016</td>\n",
       "      <td>39.6</td>\n",
       "      <td>0.052849</td>\n",
       "      <td>106.224</td>\n",
       "    </tr>\n",
       "    <tr>\n",
       "      <th>1502</th>\n",
       "      <td>6300</td>\n",
       "      <td>15.6</td>\n",
       "      <td>0.1016</td>\n",
       "      <td>39.6</td>\n",
       "      <td>0.052849</td>\n",
       "      <td>104.204</td>\n",
       "    </tr>\n",
       "  </tbody>\n",
       "</table>\n",
       "<p>1503 rows × 6 columns</p>\n",
       "</div>"
      ],
      "text/plain": [
       "         0     1       2     3         4        5\n",
       "0      800   0.0  0.3048  71.3  0.002663  126.201\n",
       "1     1000   0.0  0.3048  71.3  0.002663  125.201\n",
       "2     1250   0.0  0.3048  71.3  0.002663  125.951\n",
       "3     1600   0.0  0.3048  71.3  0.002663  127.591\n",
       "4     2000   0.0  0.3048  71.3  0.002663  127.461\n",
       "...    ...   ...     ...   ...       ...      ...\n",
       "1498  2500  15.6  0.1016  39.6  0.052849  110.264\n",
       "1499  3150  15.6  0.1016  39.6  0.052849  109.254\n",
       "1500  4000  15.6  0.1016  39.6  0.052849  106.604\n",
       "1501  5000  15.6  0.1016  39.6  0.052849  106.224\n",
       "1502  6300  15.6  0.1016  39.6  0.052849  104.204\n",
       "\n",
       "[1503 rows x 6 columns]"
      ]
     },
     "execution_count": 23,
     "metadata": {},
     "output_type": "execute_result"
    }
   ],
   "source": [
    "df"
   ]
  },
  {
   "cell_type": "code",
   "execution_count": 24,
   "id": "7e18feb3",
   "metadata": {},
   "outputs": [],
   "source": [
    "df.columns=[\"Frequency\",\"Angle of attack\",\"Chord length\",\"Free-stream velocity\",\"Suction side\",\"pressure level\"]"
   ]
  },
  {
   "cell_type": "code",
   "execution_count": 25,
   "id": "8f426b31",
   "metadata": {},
   "outputs": [
    {
     "data": {
      "text/html": [
       "<div>\n",
       "<style scoped>\n",
       "    .dataframe tbody tr th:only-of-type {\n",
       "        vertical-align: middle;\n",
       "    }\n",
       "\n",
       "    .dataframe tbody tr th {\n",
       "        vertical-align: top;\n",
       "    }\n",
       "\n",
       "    .dataframe thead th {\n",
       "        text-align: right;\n",
       "    }\n",
       "</style>\n",
       "<table border=\"1\" class=\"dataframe\">\n",
       "  <thead>\n",
       "    <tr style=\"text-align: right;\">\n",
       "      <th></th>\n",
       "      <th>Frequency</th>\n",
       "      <th>Angle of attack</th>\n",
       "      <th>Chord length</th>\n",
       "      <th>Free-stream velocity</th>\n",
       "      <th>Suction side</th>\n",
       "      <th>pressure level</th>\n",
       "    </tr>\n",
       "  </thead>\n",
       "  <tbody>\n",
       "    <tr>\n",
       "      <th>0</th>\n",
       "      <td>800</td>\n",
       "      <td>0.0</td>\n",
       "      <td>0.3048</td>\n",
       "      <td>71.3</td>\n",
       "      <td>0.002663</td>\n",
       "      <td>126.201</td>\n",
       "    </tr>\n",
       "    <tr>\n",
       "      <th>1</th>\n",
       "      <td>1000</td>\n",
       "      <td>0.0</td>\n",
       "      <td>0.3048</td>\n",
       "      <td>71.3</td>\n",
       "      <td>0.002663</td>\n",
       "      <td>125.201</td>\n",
       "    </tr>\n",
       "    <tr>\n",
       "      <th>2</th>\n",
       "      <td>1250</td>\n",
       "      <td>0.0</td>\n",
       "      <td>0.3048</td>\n",
       "      <td>71.3</td>\n",
       "      <td>0.002663</td>\n",
       "      <td>125.951</td>\n",
       "    </tr>\n",
       "    <tr>\n",
       "      <th>3</th>\n",
       "      <td>1600</td>\n",
       "      <td>0.0</td>\n",
       "      <td>0.3048</td>\n",
       "      <td>71.3</td>\n",
       "      <td>0.002663</td>\n",
       "      <td>127.591</td>\n",
       "    </tr>\n",
       "    <tr>\n",
       "      <th>4</th>\n",
       "      <td>2000</td>\n",
       "      <td>0.0</td>\n",
       "      <td>0.3048</td>\n",
       "      <td>71.3</td>\n",
       "      <td>0.002663</td>\n",
       "      <td>127.461</td>\n",
       "    </tr>\n",
       "    <tr>\n",
       "      <th>...</th>\n",
       "      <td>...</td>\n",
       "      <td>...</td>\n",
       "      <td>...</td>\n",
       "      <td>...</td>\n",
       "      <td>...</td>\n",
       "      <td>...</td>\n",
       "    </tr>\n",
       "    <tr>\n",
       "      <th>1498</th>\n",
       "      <td>2500</td>\n",
       "      <td>15.6</td>\n",
       "      <td>0.1016</td>\n",
       "      <td>39.6</td>\n",
       "      <td>0.052849</td>\n",
       "      <td>110.264</td>\n",
       "    </tr>\n",
       "    <tr>\n",
       "      <th>1499</th>\n",
       "      <td>3150</td>\n",
       "      <td>15.6</td>\n",
       "      <td>0.1016</td>\n",
       "      <td>39.6</td>\n",
       "      <td>0.052849</td>\n",
       "      <td>109.254</td>\n",
       "    </tr>\n",
       "    <tr>\n",
       "      <th>1500</th>\n",
       "      <td>4000</td>\n",
       "      <td>15.6</td>\n",
       "      <td>0.1016</td>\n",
       "      <td>39.6</td>\n",
       "      <td>0.052849</td>\n",
       "      <td>106.604</td>\n",
       "    </tr>\n",
       "    <tr>\n",
       "      <th>1501</th>\n",
       "      <td>5000</td>\n",
       "      <td>15.6</td>\n",
       "      <td>0.1016</td>\n",
       "      <td>39.6</td>\n",
       "      <td>0.052849</td>\n",
       "      <td>106.224</td>\n",
       "    </tr>\n",
       "    <tr>\n",
       "      <th>1502</th>\n",
       "      <td>6300</td>\n",
       "      <td>15.6</td>\n",
       "      <td>0.1016</td>\n",
       "      <td>39.6</td>\n",
       "      <td>0.052849</td>\n",
       "      <td>104.204</td>\n",
       "    </tr>\n",
       "  </tbody>\n",
       "</table>\n",
       "<p>1503 rows × 6 columns</p>\n",
       "</div>"
      ],
      "text/plain": [
       "      Frequency  Angle of attack  Chord length  Free-stream velocity  \\\n",
       "0           800              0.0        0.3048                  71.3   \n",
       "1          1000              0.0        0.3048                  71.3   \n",
       "2          1250              0.0        0.3048                  71.3   \n",
       "3          1600              0.0        0.3048                  71.3   \n",
       "4          2000              0.0        0.3048                  71.3   \n",
       "...         ...              ...           ...                   ...   \n",
       "1498       2500             15.6        0.1016                  39.6   \n",
       "1499       3150             15.6        0.1016                  39.6   \n",
       "1500       4000             15.6        0.1016                  39.6   \n",
       "1501       5000             15.6        0.1016                  39.6   \n",
       "1502       6300             15.6        0.1016                  39.6   \n",
       "\n",
       "      Suction side  pressure level  \n",
       "0         0.002663         126.201  \n",
       "1         0.002663         125.201  \n",
       "2         0.002663         125.951  \n",
       "3         0.002663         127.591  \n",
       "4         0.002663         127.461  \n",
       "...            ...             ...  \n",
       "1498      0.052849         110.264  \n",
       "1499      0.052849         109.254  \n",
       "1500      0.052849         106.604  \n",
       "1501      0.052849         106.224  \n",
       "1502      0.052849         104.204  \n",
       "\n",
       "[1503 rows x 6 columns]"
      ]
     },
     "execution_count": 25,
     "metadata": {},
     "output_type": "execute_result"
    }
   ],
   "source": [
    "df"
   ]
  },
  {
   "cell_type": "code",
   "execution_count": 26,
   "id": "b152c0ce",
   "metadata": {},
   "outputs": [
    {
     "data": {
      "text/plain": [
       "Frequency               0\n",
       "Angle of attack         0\n",
       "Chord length            0\n",
       "Free-stream velocity    0\n",
       "Suction side            0\n",
       "pressure level          0\n",
       "dtype: int64"
      ]
     },
     "execution_count": 26,
     "metadata": {},
     "output_type": "execute_result"
    }
   ],
   "source": [
    "df.isnull().sum()"
   ]
  },
  {
   "cell_type": "code",
   "execution_count": 27,
   "id": "e6852a4b",
   "metadata": {},
   "outputs": [
    {
     "name": "stderr",
     "output_type": "stream",
     "text": [
      "c:\\Python310\\lib\\site-packages\\seaborn\\_decorators.py:36: FutureWarning: Pass the following variable as a keyword arg: x. From version 0.12, the only valid positional argument will be `data`, and passing other arguments without an explicit keyword will result in an error or misinterpretation.\n",
      "  warnings.warn(\n"
     ]
    },
    {
     "data": {
      "text/plain": [
       "<AxesSubplot:xlabel='Frequency'>"
      ]
     },
     "execution_count": 27,
     "metadata": {},
     "output_type": "execute_result"
    },
    {
     "data": {
      "image/png": "[encoded data removed]",
      "text/plain": [
       "<Figure size 432x288 with 1 Axes>"
      ]
     },
     "metadata": {
      "needs_background": "light"
     },
     "output_type": "display_data"
    }
   ],
   "source": [
    "\n",
    "sns.boxplot(df.iloc[:,0])\n"
   ]
  },
  {
   "cell_type": "code",
   "execution_count": 28,
   "id": "2048f866",
   "metadata": {},
   "outputs": [
    {
     "name": "stderr",
     "output_type": "stream",
     "text": [
      "c:\\Python310\\lib\\site-packages\\seaborn\\_decorators.py:36: FutureWarning: Pass the following variable as a keyword arg: x. From version 0.12, the only valid positional argument will be `data`, and passing other arguments without an explicit keyword will result in an error or misinterpretation.\n",
      "  warnings.warn(\n"
     ]
    },
    {
     "data": {
      "text/plain": [
       "<AxesSubplot:xlabel='Angle of attack'>"
      ]
     },
     "execution_count": 28,
     "metadata": {},
     "output_type": "execute_result"
    },
    {
     "data": {
      "image/png": "[encoded data removed]",
      "text/plain": [
       "<Figure size 432x288 with 1 Axes>"
      ]
     },
     "metadata": {
      "needs_background": "light"
     },
     "output_type": "display_data"
    }
   ],
   "source": [
    "sns.boxplot(df.iloc[:,1])"
   ]
  },
  {
   "cell_type": "code",
   "execution_count": 29,
   "id": "1659892e",
   "metadata": {},
   "outputs": [
    {
     "name": "stderr",
     "output_type": "stream",
     "text": [
      "c:\\Python310\\lib\\site-packages\\seaborn\\_decorators.py:36: FutureWarning: Pass the following variable as a keyword arg: x. From version 0.12, the only valid positional argument will be `data`, and passing other arguments without an explicit keyword will result in an error or misinterpretation.\n",
      "  warnings.warn(\n"
     ]
    },
    {
     "data": {
      "text/plain": [
       "<AxesSubplot:xlabel='Chord length'>"
      ]
     },
     "execution_count": 29,
     "metadata": {},
     "output_type": "execute_result"
    },
    {
     "data": {
      "image/png": "[encoded data removed]",
      "text/plain": [
       "<Figure size 432x288 with 1 Axes>"
      ]
     },
     "metadata": {
      "needs_background": "light"
     },
     "output_type": "display_data"
    }
   ],
   "source": [
    "sns.boxplot(df.iloc[:,2])"
   ]
  },
  {
   "cell_type": "code",
   "execution_count": 30,
   "id": "45f8613d",
   "metadata": {},
   "outputs": [
    {
     "name": "stderr",
     "output_type": "stream",
     "text": [
      "c:\\Python310\\lib\\site-packages\\seaborn\\_decorators.py:36: FutureWarning: Pass the following variable as a keyword arg: x. From version 0.12, the only valid positional argument will be `data`, and passing other arguments without an explicit keyword will result in an error or misinterpretation.\n",
      "  warnings.warn(\n"
     ]
    },
    {
     "data": {
      "text/plain": [
       "<AxesSubplot:xlabel='Free-stream velocity'>"
      ]
     },
     "execution_count": 30,
     "metadata": {},
     "output_type": "execute_result"
    },
    {
     "data": {
      "image/png": "[encoded data removed]",
      "text/plain": [
       "<Figure size 432x288 with 1 Axes>"
      ]
     },
     "metadata": {
      "needs_background": "light"
     },
     "output_type": "display_data"
    }
   ],
   "source": [
    "\n",
    "sns.boxplot(df.iloc[:,3])"
   ]
  },
  {
   "cell_type": "code",
   "execution_count": 31,
   "id": "0f54b131",
   "metadata": {},
   "outputs": [
    {
     "name": "stderr",
     "output_type": "stream",
     "text": [
      "c:\\Python310\\lib\\site-packages\\seaborn\\_decorators.py:36: FutureWarning: Pass the following variable as a keyword arg: x. From version 0.12, the only valid positional argument will be `data`, and passing other arguments without an explicit keyword will result in an error or misinterpretation.\n",
      "  warnings.warn(\n"
     ]
    },
    {
     "data": {
      "text/plain": [
       "<AxesSubplot:xlabel='Suction side'>"
      ]
     },
     "execution_count": 31,
     "metadata": {},
     "output_type": "execute_result"
    },
    {
     "data": {
      "image/png": "[encoded data removed]",
      "text/plain": [
       "<Figure size 432x288 with 1 Axes>"
      ]
     },
     "metadata": {
      "needs_background": "light"
     },
     "output_type": "display_data"
    }
   ],
   "source": [
    "sns.boxplot(df.iloc[:,4])"
   ]
  },
  {
   "cell_type": "code",
   "execution_count": 32,
   "id": "140678ef",
   "metadata": {},
   "outputs": [],
   "source": [
    "df=df[df[df.columns[4]]<0.03]"
   ]
  },
  {
   "cell_type": "code",
   "execution_count": 33,
   "id": "9d0e5c10",
   "metadata": {},
   "outputs": [],
   "source": [
    "filt=(df['Frequency']<=8000)\n",
    "df=df[filt]"
   ]
  },
  {
   "cell_type": "code",
   "execution_count": 34,
   "id": "e3ef99b1",
   "metadata": {},
   "outputs": [
    {
     "data": {
      "image/png": "[encoded data removed]",
      "text/plain": [
       "<Figure size 1440x1080 with 2 Axes>"
      ]
     },
     "metadata": {
      "needs_background": "light"
     },
     "output_type": "display_data"
    }
   ],
   "source": [
    "plt.figure(figsize=(20,15))\n",
    "sns.heatmap(df.corr(),annot=True,cmap=\"RdYlGn\")\n",
    "plt.show()"
   ]
  },
  {
   "cell_type": "code",
   "execution_count": 35,
   "id": "e2447342",
   "metadata": {},
   "outputs": [
    {
     "data": {
      "text/html": [
       "<div>\n",
       "<style scoped>\n",
       "    .dataframe tbody tr th:only-of-type {\n",
       "        vertical-align: middle;\n",
       "    }\n",
       "\n",
       "    .dataframe tbody tr th {\n",
       "        vertical-align: top;\n",
       "    }\n",
       "\n",
       "    .dataframe thead th {\n",
       "        text-align: right;\n",
       "    }\n",
       "</style>\n",
       "<table border=\"1\" class=\"dataframe\">\n",
       "  <thead>\n",
       "    <tr style=\"text-align: right;\">\n",
       "      <th></th>\n",
       "      <th>Frequency</th>\n",
       "      <th>Angle of attack</th>\n",
       "      <th>Chord length</th>\n",
       "      <th>Free-stream velocity</th>\n",
       "      <th>Suction side</th>\n",
       "      <th>pressure level</th>\n",
       "    </tr>\n",
       "  </thead>\n",
       "  <tbody>\n",
       "    <tr>\n",
       "      <th>0</th>\n",
       "      <td>0.076923</td>\n",
       "      <td>0.000000</td>\n",
       "      <td>1.000000</td>\n",
       "      <td>1.000000</td>\n",
       "      <td>0.079158</td>\n",
       "      <td>0.549235</td>\n",
       "    </tr>\n",
       "    <tr>\n",
       "      <th>1</th>\n",
       "      <td>0.102564</td>\n",
       "      <td>0.000000</td>\n",
       "      <td>1.000000</td>\n",
       "      <td>1.000000</td>\n",
       "      <td>0.079158</td>\n",
       "      <td>0.518749</td>\n",
       "    </tr>\n",
       "    <tr>\n",
       "      <th>2</th>\n",
       "      <td>0.134615</td>\n",
       "      <td>0.000000</td>\n",
       "      <td>1.000000</td>\n",
       "      <td>1.000000</td>\n",
       "      <td>0.079158</td>\n",
       "      <td>0.541613</td>\n",
       "    </tr>\n",
       "    <tr>\n",
       "      <th>3</th>\n",
       "      <td>0.179487</td>\n",
       "      <td>0.000000</td>\n",
       "      <td>1.000000</td>\n",
       "      <td>1.000000</td>\n",
       "      <td>0.079158</td>\n",
       "      <td>0.591610</td>\n",
       "    </tr>\n",
       "    <tr>\n",
       "      <th>4</th>\n",
       "      <td>0.230769</td>\n",
       "      <td>0.000000</td>\n",
       "      <td>1.000000</td>\n",
       "      <td>1.000000</td>\n",
       "      <td>0.079158</td>\n",
       "      <td>0.587647</td>\n",
       "    </tr>\n",
       "    <tr>\n",
       "      <th>...</th>\n",
       "      <td>...</td>\n",
       "      <td>...</td>\n",
       "      <td>...</td>\n",
       "      <td>...</td>\n",
       "      <td>...</td>\n",
       "      <td>...</td>\n",
       "    </tr>\n",
       "    <tr>\n",
       "      <th>1258</th>\n",
       "      <td>0.294872</td>\n",
       "      <td>0.400901</td>\n",
       "      <td>0.272727</td>\n",
       "      <td>0.199495</td>\n",
       "      <td>0.421867</td>\n",
       "      <td>0.335498</td>\n",
       "    </tr>\n",
       "    <tr>\n",
       "      <th>1259</th>\n",
       "      <td>0.378205</td>\n",
       "      <td>0.400901</td>\n",
       "      <td>0.272727</td>\n",
       "      <td>0.199495</td>\n",
       "      <td>0.421867</td>\n",
       "      <td>0.340376</td>\n",
       "    </tr>\n",
       "    <tr>\n",
       "      <th>1260</th>\n",
       "      <td>0.487179</td>\n",
       "      <td>0.400901</td>\n",
       "      <td>0.272727</td>\n",
       "      <td>0.199495</td>\n",
       "      <td>0.421867</td>\n",
       "      <td>0.244955</td>\n",
       "    </tr>\n",
       "    <tr>\n",
       "      <th>1261</th>\n",
       "      <td>0.615385</td>\n",
       "      <td>0.400901</td>\n",
       "      <td>0.272727</td>\n",
       "      <td>0.199495</td>\n",
       "      <td>0.421867</td>\n",
       "      <td>0.149229</td>\n",
       "    </tr>\n",
       "    <tr>\n",
       "      <th>1262</th>\n",
       "      <td>0.782051</td>\n",
       "      <td>0.400901</td>\n",
       "      <td>0.272727</td>\n",
       "      <td>0.199495</td>\n",
       "      <td>0.421867</td>\n",
       "      <td>0.150143</td>\n",
       "    </tr>\n",
       "  </tbody>\n",
       "</table>\n",
       "<p>1263 rows × 6 columns</p>\n",
       "</div>"
      ],
      "text/plain": [
       "      Frequency  Angle of attack  Chord length  Free-stream velocity  \\\n",
       "0      0.076923         0.000000      1.000000              1.000000   \n",
       "1      0.102564         0.000000      1.000000              1.000000   \n",
       "2      0.134615         0.000000      1.000000              1.000000   \n",
       "3      0.179487         0.000000      1.000000              1.000000   \n",
       "4      0.230769         0.000000      1.000000              1.000000   \n",
       "...         ...              ...           ...                   ...   \n",
       "1258   0.294872         0.400901      0.272727              0.199495   \n",
       "1259   0.378205         0.400901      0.272727              0.199495   \n",
       "1260   0.487179         0.400901      0.272727              0.199495   \n",
       "1261   0.615385         0.400901      0.272727              0.199495   \n",
       "1262   0.782051         0.400901      0.272727              0.199495   \n",
       "\n",
       "      Suction side  pressure level  \n",
       "0         0.079158        0.549235  \n",
       "1         0.079158        0.518749  \n",
       "2         0.079158        0.541613  \n",
       "3         0.079158        0.591610  \n",
       "4         0.079158        0.587647  \n",
       "...            ...             ...  \n",
       "1258      0.421867        0.335498  \n",
       "1259      0.421867        0.340376  \n",
       "1260      0.421867        0.244955  \n",
       "1261      0.421867        0.149229  \n",
       "1262      0.421867        0.150143  \n",
       "\n",
       "[1263 rows x 6 columns]"
      ]
     },
     "execution_count": 35,
     "metadata": {},
     "output_type": "execute_result"
    }
   ],
   "source": [
    "\n",
    "min_max=MinMaxScaler()\n",
    "df_minmax=pd.DataFrame(min_max.fit_transform(df),columns=df.columns)\n",
    "df_minmax"
   ]
  },
  {
   "cell_type": "code",
   "execution_count": 36,
   "id": "94ae3ad3",
   "metadata": {},
   "outputs": [],
   "source": [
    "X=df_minmax.iloc[:,0:-1]\n",
    "Y=df_minmax.iloc[:,-1]"
   ]
  },
  {
   "cell_type": "code",
   "execution_count": 42,
   "id": "13a13355",
   "metadata": {},
   "outputs": [
    {
     "name": "stdout",
     "output_type": "stream",
     "text": [
      "Dec_tree_score:  0.7877678594093105 \n",
      " Random_forest_score:  0.9068382616889304\n",
      "Dec_tree_score:  0.7884358755869308 \n",
      " Random_forest_score:  0.9025918671159192\n",
      "Dec_tree_score:  0.7856186476429342 \n",
      " Random_forest_score:  0.9029625472554033\n",
      "Dec_tree_score:  0.7813223930658446 \n",
      " Random_forest_score:  0.9038432643453695\n",
      "Dec_tree_score:  0.7873243625777184 \n",
      " Random_forest_score:  0.9017608002521733\n",
      "Dec_tree_score:  0.781239389465546 \n",
      " Random_forest_score:  0.9036192824894276\n",
      "Dec_tree_score:  0.7835046165090934 \n",
      " Random_forest_score:  0.9066907491708158\n",
      "Dec_tree_score:  0.7716763790843367 \n",
      " Random_forest_score:  0.9025066085060958\n",
      "Dec_tree_score:  0.789929221391271 \n",
      " Random_forest_score:  0.9044475152250977\n",
      "Dec_tree_score:  0.7757429352695708 \n",
      " Random_forest_score:  0.900284595579142\n",
      "Dec_tree_score:  0.7903761057967197 \n",
      " Random_forest_score:  0.9005711627544326\n",
      "Dec_tree_score:  0.7898386910443257 \n",
      " Random_forest_score:  0.9003888110591551\n",
      "Dec_tree_score:  0.7866432974603874 \n",
      " Random_forest_score:  0.900002352332286\n",
      "Dec_tree_score:  0.790473365219678 \n",
      " Random_forest_score:  0.9035405897054383\n",
      "Dec_tree_score:  0.7735772881848836 \n",
      " Random_forest_score:  0.9043900808632692\n",
      "Dec_tree_score:  0.7878506572081949 \n",
      " Random_forest_score:  0.9003392880135037\n",
      "Dec_tree_score:  0.790267333338479 \n",
      " Random_forest_score:  0.9050375886151825\n",
      "Dec_tree_score:  0.7886169307391784 \n",
      " Random_forest_score:  0.90713955971438\n",
      "Dec_tree_score:  0.7898154903576722 \n",
      " Random_forest_score:  0.9008500217089652\n",
      "Dec_tree_score:  0.7923462289335471 \n",
      " Random_forest_score:  0.9036654985625313\n",
      "Dec_tree_score:  0.77089289190583 \n",
      " Random_forest_score:  0.8987383650303558\n",
      "Dec_tree_score:  0.7855844101763301 \n",
      " Random_forest_score:  0.9020117019029571\n",
      "Dec_tree_score:  0.7756040597364907 \n",
      " Random_forest_score:  0.907714539863051\n",
      "Dec_tree_score:  0.786749421991142 \n",
      " Random_forest_score:  0.9053536269356087\n",
      "Dec_tree_score:  0.7869342287271388 \n",
      " Random_forest_score:  0.9026205899120446\n",
      "Dec_tree_score:  0.7870125336660087 \n",
      " Random_forest_score:  0.9033476380606731\n",
      "Dec_tree_score:  0.7746051824714085 \n",
      " Random_forest_score:  0.902139663875206\n",
      "Dec_tree_score:  0.7846895844328275 \n",
      " Random_forest_score:  0.9033404571924124\n",
      "Dec_tree_score:  0.7955235426350766 \n",
      " Random_forest_score:  0.9047549015069416\n",
      "Dec_tree_score:  0.7854079039524865 \n",
      " Random_forest_score:  0.898137107289297\n",
      "Dec_tree_score:  0.7913448503228728 \n",
      " Random_forest_score:  0.9017350438378061\n",
      "Dec_tree_score:  0.7924011157577648 \n",
      " Random_forest_score:  0.9015779557340724\n",
      "Dec_tree_score:  0.7830670458672164 \n",
      " Random_forest_score:  0.9025687861915195\n",
      "Dec_tree_score:  0.7857002527932863 \n",
      " Random_forest_score:  0.9054971234523839\n",
      "Dec_tree_score:  0.7921201316317984 \n",
      " Random_forest_score:  0.9008647942592932\n",
      "Dec_tree_score:  0.7853746338829198 \n",
      " Random_forest_score:  0.9076413813092048\n",
      "Dec_tree_score:  0.789450279340848 \n",
      " Random_forest_score:  0.9049704904083208\n",
      "Dec_tree_score:  0.7837629157558575 \n",
      " Random_forest_score:  0.8990069891914464\n",
      "Dec_tree_score:  0.7938081272169573 \n",
      " Random_forest_score:  0.9033428608629037\n",
      "Dec_tree_score:  0.7853675829569657 \n",
      " Random_forest_score:  0.9004062043816901\n",
      "Dec_tree_score:  0.780031668858976 \n",
      " Random_forest_score:  0.9021817666140283\n",
      "Dec_tree_score:  0.7707623395947742 \n",
      " Random_forest_score:  0.9056834856834848\n",
      "Dec_tree_score:  0.7792740239923479 \n",
      " Random_forest_score:  0.9034847077965475\n",
      "Dec_tree_score:  0.7819380035541406 \n",
      " Random_forest_score:  0.9024673346515206\n",
      "Dec_tree_score:  0.7750878029776231 \n",
      " Random_forest_score:  0.9030213535949335\n",
      "Dec_tree_score:  0.7861604223645671 \n",
      " Random_forest_score:  0.9016484073945242\n",
      "Dec_tree_score:  0.7869036468977957 \n",
      " Random_forest_score:  0.9054451235997536\n",
      "Dec_tree_score:  0.7920094372013236 \n",
      " Random_forest_score:  0.9027471525472169\n",
      "Dec_tree_score:  0.787463594949153 \n",
      " Random_forest_score:  0.9035147091625241\n",
      "Dec_tree_score:  0.7802627433168863 \n",
      " Random_forest_score:  0.9068211318387879\n",
      "Dec_tree_score:  0.7868867153307743 \n",
      " Random_forest_score:  0.9088249624412512\n",
      "Dec_tree_score:  0.7746492249519502 \n",
      " Random_forest_score:  0.8941892278725112\n",
      "Dec_tree_score:  0.7705506073186533 \n",
      " Random_forest_score:  0.9048149084599321\n",
      "Dec_tree_score:  0.7871233908686683 \n",
      " Random_forest_score:  0.9041772130440748\n",
      "Dec_tree_score:  0.7752350948540643 \n",
      " Random_forest_score:  0.9047203804612121\n",
      "Dec_tree_score:  0.7875338911270819 \n",
      " Random_forest_score:  0.90390195223695\n",
      "Dec_tree_score:  0.7845810109304416 \n",
      " Random_forest_score:  0.9009638667156261\n",
      "Dec_tree_score:  0.7866432922447232 \n",
      " Random_forest_score:  0.8967190522497535\n",
      "Dec_tree_score:  0.7693908411580463 \n",
      " Random_forest_score:  0.9014066762732658\n",
      "Dec_tree_score:  0.7873869176234726 \n",
      " Random_forest_score:  0.9030572565181412\n",
      "Dec_tree_score:  0.7854318302684128 \n",
      " Random_forest_score:  0.9042956626908976\n",
      "Dec_tree_score:  0.7713585067391285 \n",
      " Random_forest_score:  0.9009392430306337\n",
      "Dec_tree_score:  0.7905701131815721 \n",
      " Random_forest_score:  0.902448084855203\n",
      "Dec_tree_score:  0.7829545418186055 \n",
      " Random_forest_score:  0.9041206743054215\n",
      "Dec_tree_score:  0.7850613616448201 \n",
      " Random_forest_score:  0.9029850903693664\n",
      "Dec_tree_score:  0.7872845636919096 \n",
      " Random_forest_score:  0.9015002546942538\n",
      "Dec_tree_score:  0.784818892699327 \n",
      " Random_forest_score:  0.906732791280661\n",
      "Dec_tree_score:  0.765899282388396 \n",
      " Random_forest_score:  0.903843208041069\n",
      "Dec_tree_score:  0.779771436013393 \n",
      " Random_forest_score:  0.8992630852041814\n",
      "Dec_tree_score:  0.7907820159447145 \n",
      " Random_forest_score:  0.9044235604784883\n",
      "Dec_tree_score:  0.7977402389017739 \n",
      " Random_forest_score:  0.9024360161845173\n",
      "Dec_tree_score:  0.787319831795479 \n",
      " Random_forest_score:  0.9065805247742869\n",
      "Dec_tree_score:  0.7716399502781777 \n",
      " Random_forest_score:  0.9049581572512849\n",
      "Dec_tree_score:  0.7866418301202104 \n",
      " Random_forest_score:  0.902019010510243\n",
      "Dec_tree_score:  0.7883617753426321 \n",
      " Random_forest_score:  0.9036241690423207\n",
      "Dec_tree_score:  0.781316707339978 \n",
      " Random_forest_score:  0.9066043140573634\n",
      "Dec_tree_score:  0.782441154978929 \n",
      " Random_forest_score:  0.9027651689326419\n",
      "Dec_tree_score:  0.7860054465109374 \n",
      " Random_forest_score:  0.9020219538495664\n",
      "Dec_tree_score:  0.7857246704682381 \n",
      " Random_forest_score:  0.9016282101433586\n",
      "Dec_tree_score:  0.7833739978069797 \n",
      " Random_forest_score:  0.9001970518940651\n",
      "Dec_tree_score:  0.7901203691796013 \n",
      " Random_forest_score:  0.9015290128119108\n",
      "Dec_tree_score:  0.7714720878223835 \n",
      " Random_forest_score:  0.9043870548385335\n",
      "Dec_tree_score:  0.7843156593451478 \n",
      " Random_forest_score:  0.9059480193873051\n",
      "Dec_tree_score:  0.7801596082309591 \n",
      " Random_forest_score:  0.904124102345182\n",
      "Dec_tree_score:  0.7829282857307054 \n",
      " Random_forest_score:  0.9030333115621049\n",
      "Dec_tree_score:  0.7851609333455455 \n",
      " Random_forest_score:  0.9056114287617568\n",
      "Dec_tree_score:  0.7692502967211025 \n",
      " Random_forest_score:  0.9049452315361489\n",
      "Dec_tree_score:  0.7729758917939344 \n",
      " Random_forest_score:  0.9029436069975058\n",
      "Dec_tree_score:  0.7892903043818036 \n",
      " Random_forest_score:  0.9032379993284404\n",
      "Dec_tree_score:  0.7895698803871128 \n",
      " Random_forest_score:  0.900424495950401\n",
      "Dec_tree_score:  0.7916236973304593 \n",
      " Random_forest_score:  0.9070640822254495\n",
      "Dec_tree_score:  0.7922072085571277 \n",
      " Random_forest_score:  0.9073733110855146\n",
      "Dec_tree_score:  0.7964898141758116 \n",
      " Random_forest_score:  0.9032988488423841\n",
      "Dec_tree_score:  0.7833219739477341 \n",
      " Random_forest_score:  0.9069925103839132\n",
      "Dec_tree_score:  0.7842744062669821 \n",
      " Random_forest_score:  0.9022487410749228\n",
      "Dec_tree_score:  0.7837070298059787 \n",
      " Random_forest_score:  0.9039983514850816\n",
      "Dec_tree_score:  0.7751339070580743 \n",
      " Random_forest_score:  0.9031073328604269\n",
      "Dec_tree_score:  0.7869169614017387 \n",
      " Random_forest_score:  0.9062532939244428\n",
      "Dec_tree_score:  0.7870563701278168 \n",
      " Random_forest_score:  0.898753283009362\n",
      "Dec_tree_score:  0.7779855867455434 \n",
      " Random_forest_score:  0.9004919738811801\n"
     ]
    }
   ],
   "source": [
    "for i in range(100):    \n",
    "    X_train,X_test,Y_train,Y_test=train_test_split(X,Y,test_size=0.2,random_state=0)\n",
    "\n",
    "    des=DecisionTreeRegressor()\n",
    "    des.fit(X_train,Y_train)\n",
    "    score_dc=des.score(X_test,Y_test)\n",
    "\n",
    "    rf=RandomForestRegressor()\n",
    "    rf.fit(X_train,Y_train)\n",
    "    rf_score=rf.score(X_test,Y_test)\n",
    "    print(\"Dec_tree_score: \",score_dc,'\\n',\"Random_forest_score: \",rf_score)"
   ]
  },
  {
   "cell_type": "code",
   "execution_count": 43,
   "id": "c29602ed",
   "metadata": {},
   "outputs": [],
   "source": [
    "import pickle\n",
    "pickle.dump(rf, open('model.pkl', 'wb'))"
   ]
  },
  {
   "cell_type": "code",
   "execution_count": null,
   "id": "5c2c2e51",
   "metadata": {},
   "outputs": [],
   "source": [
    "# https://archive.ics.uci.edu/ml/machine-learning-databases/00547/\n",
    "\n",
    "\n",
    "# https://archive.ics.uci.edu/ml/machine-learning-databases/00547/"
   ]
  }
 ],
 "metadata": {
  "kernelspec": {
   "display_name": "Python 3.10.2 64-bit",
   "language": "python",
   "name": "python3"
  },
  "language_info": {
   "codemirror_mode": {
    "name": "ipython",
    "version": 3
   },
   "file_extension": ".py",
   "mimetype": "text/x-python",
   "name": "python",
   "nbconvert_exporter": "python",
   "pygments_lexer": "ipython3",
   "version": "3.10.2"
  },
  "vscode": {
   "interpreter": {
    "hash": "369f2c481f4da34e4445cda3fffd2e751bd1c4d706f27375911949ba6bb62e1c"
   }
  }
 },
 "nbformat": 4,
 "nbformat_minor": 5
}
